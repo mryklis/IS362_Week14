{
 "cells": [
  {
   "cell_type": "markdown",
   "metadata": {},
   "source": [
    "# Facebook"
   ]
  },
  {
   "cell_type": "markdown",
   "metadata": {},
   "source": [
    "### User Population\n",
    "According to 2014 data from the Pew Research Center approximately 71% of all internet users  have visited Facebook. With more women than men. \n",
    "\n",
    "http://www.pewinternet.org/2015/01/09/demographics-of-key-social-networking-platforms-2/\n",
    "![Pew Research](http://assets.pewresearch.org/wp-content/uploads/sites/14/2015/01/PI_2015-01-09_social-media-new_04.png)"
   ]
  },
  {
   "cell_type": "markdown",
   "metadata": {},
   "source": [
    "### User Goals\n",
    "According to a survey cited in the Atlantic, people visit the site for a variety of reasons\n",
    "\n",
    "https://www.theatlantic.com/technology/archive/2013/04/why-do-people-use-facebook/274721/\n",
    "![Usage](https://cdn.theatlantic.com/static/mt/assets/science/whydoyouusefacebook.jpg)"
   ]
  },
  {
   "cell_type": "markdown",
   "metadata": {},
   "source": [
    "### What does Facebook deliver to the users?\n",
    "By providing fresh, and relevant content. A range of multi-media news feed items that is both engaging and entertaining. With advances in mobile technology, allow the users to access and interact with the site from anywhere and anytime. "
   ]
  },
  {
   "cell_type": "markdown",
   "metadata": {},
   "source": [
    "## Reverse Engineering Facebook"
   ]
  },
  {
   "cell_type": "markdown",
   "metadata": {},
   "source": [
    "* For the recommendation engine Facebook utilizes Collaborative filtering. \n",
    "https://code.facebook.com/posts/861999383875667/recommending-items-to-more-than-a-billion-people/"
   ]
  },
  {
   "cell_type": "markdown",
   "metadata": {},
   "source": [
    "* Utilizes SSL for HTTP traffic encryption"
   ]
  },
  {
   "cell_type": "markdown",
   "metadata": {},
   "source": [
    "* Developed with the some of the following design/programming languages such as HTML5, Javascript, Flash, and PHP, Ruby, C, C++, MYSQL (for the DB)"
   ]
  },
  {
   "cell_type": "markdown",
   "metadata": {},
   "source": [
    "### Improving Recommendations"
   ]
  },
  {
   "cell_type": "markdown",
   "metadata": {},
   "source": [
    "I believe they do this already, but improving the location based content recommendations could drive more people to connect and engage with the site. Similar to the way that Groupon local deals, or Meetup suggestions are created. Rank results base on a radius of the users location. News feed items that are within a few miles proximity are more relevant than those further away. Couple that with keyword rating, and relationship with the user. \n",
    "\n",
    "For example, knowing that your uncle that lives one town over is celebrating a birthday should appear on your news feed before a piece on food trending in Japan."
   ]
  }
 ],
 "metadata": {
  "anaconda-cloud": {},
  "kernelspec": {
   "display_name": "Python [default]",
   "language": "python",
   "name": "python3"
  },
  "language_info": {
   "codemirror_mode": {
    "name": "ipython",
    "version": 3
   },
   "file_extension": ".py",
   "mimetype": "text/x-python",
   "name": "python",
   "nbconvert_exporter": "python",
   "pygments_lexer": "ipython3",
   "version": "3.5.2"
  }
 },
 "nbformat": 4,
 "nbformat_minor": 1
}
